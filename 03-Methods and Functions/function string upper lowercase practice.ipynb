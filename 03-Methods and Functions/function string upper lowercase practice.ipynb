{
 "cells": [
  {
   "cell_type": "code",
   "execution_count": null,
   "metadata": {
    "collapsed": true
   },
   "outputs": [],
   "source": []
  },
  {
   "cell_type": "code",
   "execution_count": 47,
   "metadata": {},
   "outputs": [
    {
     "data": {
      "text/plain": [
       "'aNtHrOpOmOrPhIsM'"
      ]
     },
     "execution_count": 47,
     "metadata": {},
     "output_type": "execute_result"
    }
   ],
   "source": [
    "def myfunc(string):\n",
    "    \n",
    "    new_string = ''\n",
    "    \n",
    "    for i in range(0,len(string),2):  # the 2 sets the step size--> we want to index 2 at a time...\n",
    "        new_string += string[i].lower()\n",
    "        new_string += string[i+1].upper() \n",
    "        \n",
    "    return new_string\n",
    "        \n",
    "\n",
    "myfunc('Anthropomorphism')\n",
    "        "
   ]
  },
  {
   "cell_type": "markdown",
   "metadata": {},
   "source": []
  },
  {
   "cell_type": "code",
   "execution_count": 40,
   "metadata": {},
   "outputs": [
    {
     "data": {
      "text/plain": [
       "'aNtHrOpOmOrPhIsM'"
      ]
     },
     "execution_count": 40,
     "metadata": {},
     "output_type": "execute_result"
    }
   ],
   "source": [
    "def myfunc(string):\n",
    "\n",
    "    even_odd = ''\n",
    "    \n",
    "    for count, letter in enumerate(string):  # we want to iterate over the letters of the argument  \n",
    "        # enumerate gives us back both the index value and the letter, which allows us to do the below!\n",
    "\n",
    "        if count % 2 == 0:\n",
    "\n",
    "            even_odd += letter.lower()\n",
    "\n",
    "        else: \n",
    "\n",
    "            even_odd += letter.upper()\n",
    "\n",
    "    return even_odd\n",
    "\n",
    "myfunc('Anthropomorphism')"
   ]
  },
  {
   "cell_type": "code",
   "execution_count": null,
   "metadata": {
    "collapsed": true
   },
   "outputs": [],
   "source": []
  }
 ],
 "metadata": {
  "kernelspec": {
   "display_name": "Python 3",
   "language": "python",
   "name": "python3"
  },
  "language_info": {
   "codemirror_mode": {
    "name": "ipython",
    "version": 3
   },
   "file_extension": ".py",
   "mimetype": "text/x-python",
   "name": "python",
   "nbconvert_exporter": "python",
   "pygments_lexer": "ipython3",
   "version": "3.6.3"
  }
 },
 "nbformat": 4,
 "nbformat_minor": 2
}
