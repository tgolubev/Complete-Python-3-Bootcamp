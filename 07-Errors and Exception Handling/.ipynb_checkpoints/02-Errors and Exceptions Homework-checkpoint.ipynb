{
 "cells": [
  {
   "cell_type": "markdown",
   "metadata": {},
   "source": [
    "# Errors and Exceptions Homework"
   ]
  },
  {
   "cell_type": "markdown",
   "metadata": {},
   "source": [
    "### Problem 1\n",
    "Handle the exception thrown by the code below by using <code>try</code> and <code>except</code> blocks."
   ]
  },
  {
   "cell_type": "code",
   "execution_count": 3,
   "metadata": {},
   "outputs": [
    {
     "name": "stdout",
     "output_type": "stream",
     "text": [
      "Error: You can't square strings!\n",
      "9\n",
      "Error: You can't square strings!\n"
     ]
    }
   ],
   "source": [
    "for i in ['a',3,'c']:\n",
    "    try:\n",
    "        print(i**2)\n",
    "    except:\n",
    "        print(\"Error: You can't square strings!\")"
   ]
  },
  {
   "cell_type": "markdown",
   "metadata": {},
   "source": []
  },
  {
   "cell_type": "markdown",
   "metadata": {},
   "source": [
    "### Problem 2\n",
    "Handle the exception thrown by the code below by using <code>try</code> and <code>except</code> blocks. Then use a <code>finally</code> block to print 'All Done.'"
   ]
  },
  {
   "cell_type": "code",
   "execution_count": 6,
   "metadata": {},
   "outputs": [
    {
     "name": "stdout",
     "output_type": "stream",
     "text": [
      "Division by zero is undefined\n",
      "All done\n"
     ]
    }
   ],
   "source": [
    "x = 5\n",
    "y = 0\n",
    "\n",
    "try:\n",
    "    z = x/y\n",
    "except ZeroDivisionError:\n",
    "    print(\"Division by zero is undefined\")\n",
    "finally:\n",
    "    print(\"All done\")"
   ]
  },
  {
   "cell_type": "markdown",
   "metadata": {},
   "source": [
    "### Problem 3\n",
    "Write a function that asks for an integer and prints the square of it. Use a <code>while</code> loop with a <code>try</code>, <code>except</code>, <code>else</code> block to account for incorrect inputs."
   ]
  },
  {
   "cell_type": "code",
   "execution_count": 8,
   "metadata": {
    "collapsed": true
   },
   "outputs": [],
   "source": [
    "def ask():\n",
    "    while True:\n",
    "        try:\n",
    "            number = int(input(\"Please enter an integer\"))\n",
    "        except:\n",
    "            print(\"You did not enter an integer.\")\n",
    "            #continue  # note: the continue is not necessary but could be a style thing to make code more readable\n",
    "        else: # if no exception occurs\n",
    "            print(f\"Result is {number**2}\")\n",
    "            break;\n"
   ]
  },
  {
   "cell_type": "code",
   "execution_count": 10,
   "metadata": {},
   "outputs": [
    {
     "name": "stdout",
     "output_type": "stream",
     "text": [
      "Please enter an integerg\n",
      "You did not enter an integer.\n",
      "Please enter an integerg\n",
      "You did not enter an integer.\n",
      "Please enter an integers\n",
      "You did not enter an integer.\n",
      "Please enter an integerd\n",
      "You did not enter an integer.\n",
      "Please enter an integer9\n",
      "Result is 81\n"
     ]
    }
   ],
   "source": [
    "ask()"
   ]
  },
  {
   "cell_type": "code",
   "execution_count": 11,
   "metadata": {
    "collapsed": true
   },
   "outputs": [],
   "source": [
    "# another approach is using a condition, i.e. a boolean for while loop instead of while true. Accomplishes the same thing\n",
    "\n",
    "def ask():\n",
    "    waiting = True\n",
    "    while waiting:\n",
    "        try:\n",
    "            number = int(input(\"Please enter an integer \"))\n",
    "        except:\n",
    "            print(\"You did not enter an integer.\")\n",
    "            #continue  # note: the continue is not necessary but could be a style thing to make code more readable\n",
    "        else: # if no exception occurs\n",
    "            print(f\"Result is {number**2}\")\n",
    "            waiting = False;\n"
   ]
  },
  {
   "cell_type": "code",
   "execution_count": 12,
   "metadata": {},
   "outputs": [
    {
     "name": "stdout",
     "output_type": "stream",
     "text": [
      "Please enter an integerg\n",
      "You did not enter an integer.\n",
      "Please enter an integerg\n",
      "You did not enter an integer.\n",
      "Please enter an integer4\n",
      "Result is 16\n"
     ]
    }
   ],
   "source": [
    "ask()"
   ]
  },
  {
   "cell_type": "code",
   "execution_count": 13,
   "metadata": {
    "collapsed": true
   },
   "outputs": [],
   "source": [
    "# another way where the function returns the integer, instead of printing it...\n",
    "def ask():\n",
    "    while True:\n",
    "        try:\n",
    "            number = int(input(\"Please enter an integer number: \"))\n",
    "            return number**2\n",
    "        except ValueError:\n",
    "            print(\"An integer must be entered\")"
   ]
  },
  {
   "cell_type": "code",
   "execution_count": 14,
   "metadata": {},
   "outputs": [
    {
     "name": "stdout",
     "output_type": "stream",
     "text": [
      "Please enter an integer number: g\n",
      "An integer must be entered\n",
      "Please enter an integer number: g\n",
      "An integer must be entered\n",
      "Please enter an integer number: d\n",
      "An integer must be entered\n",
      "Please enter an integer number: s\n",
      "An integer must be entered\n",
      "Please enter an integer number: sdasdg\n",
      "An integer must be entered\n",
      "Please enter an integer number: 5\n"
     ]
    },
    {
     "data": {
      "text/plain": [
       "25"
      ]
     },
     "execution_count": 14,
     "metadata": {},
     "output_type": "execute_result"
    }
   ],
   "source": [
    "ask()"
   ]
  },
  {
   "cell_type": "code",
   "execution_count": null,
   "metadata": {
    "collapsed": true
   },
   "outputs": [],
   "source": []
  },
  {
   "cell_type": "markdown",
   "metadata": {},
   "source": [
    "# Great Job!"
   ]
  },
  {
   "cell_type": "code",
   "execution_count": null,
   "metadata": {
    "collapsed": true
   },
   "outputs": [],
   "source": []
  }
 ],
 "metadata": {
  "kernelspec": {
   "display_name": "Python 3",
   "language": "python",
   "name": "python3"
  },
  "language_info": {
   "codemirror_mode": {
    "name": "ipython",
    "version": 3
   },
   "file_extension": ".py",
   "mimetype": "text/x-python",
   "name": "python",
   "nbconvert_exporter": "python",
   "pygments_lexer": "ipython3",
   "version": "3.6.3"
  }
 },
 "nbformat": 4,
 "nbformat_minor": 1
}
